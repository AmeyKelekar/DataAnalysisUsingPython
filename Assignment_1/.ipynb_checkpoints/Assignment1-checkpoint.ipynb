{
 "cells": [
  {
   "cell_type": "markdown",
   "metadata": {},
   "source": [
    "# Question 1: Create a list of numbers which are multiple of 3 and 7 between 1 to 500. For the list, find what is the mean. Print what is 25th percentile, 50th percentile and 75th percentile."
   ]
  },
  {
   "cell_type": "code",
   "execution_count": 1,
   "metadata": {
    "collapsed": false
   },
   "outputs": [
    {
     "name": "stdout",
     "output_type": "stream",
     "text": [
      "List of numbers which are multiple of 3 and 7 between 1 to 500 is: \n",
      " [21, 42, 63, 84, 105, 126, 147, 168, 189, 210, 231, 252, 273, 294, 315, 336, 357, 378, 399, 420, 441, 462, 483]\n"
     ]
    }
   ],
   "source": [
    "L = list(range(1,501))\n",
    "aList = []\n",
    "for x in L:\n",
    "    x = x+1\n",
    "    if (x%3 != 0) or (x%7 !=0): continue \n",
    "    #print(x, end=' ')\n",
    "    aList.append(x)\n",
    "print(\"List of numbers which are multiple of 3 and 7 between 1 to 500 is: \\n\",aList)"
   ]
  },
  {
   "cell_type": "code",
   "execution_count": 2,
   "metadata": {
    "collapsed": false
   },
   "outputs": [
    {
     "name": "stdout",
     "output_type": "stream",
     "text": [
      "Mean of the list is:  252.0\n",
      "1st quartile of the list is:  252.0\n",
      "1st quartile of the list is:  126\n",
      "2nd quartile of the list is:  252\n",
      "2nd quartile of the list is:  378\n"
     ]
    }
   ],
   "source": [
    "print(\"Mean of the list is: \", float(sum(aList)) / max(len(aList), 1))\n",
    "#Not perfect but these functions should approximate it:\n",
    "print(\"1st quartile of the list is: \",float(sum(aList)) / max(len(aList), .75))\n",
    "print(\"1st quartile of the list is: \",sorted(aList)[int(len(aList) * .25)])\n",
    "print(\"2nd quartile of the list is: \",sorted(aList)[int(len(aList) * .5)])\n",
    "print(\"2nd quartile of the list is: \",sorted(aList)[int(len(aList) * .75)])"
   ]
  },
  {
   "cell_type": "code",
   "execution_count": 3,
   "metadata": {
    "collapsed": false
   },
   "outputs": [
    {
     "name": "stdout",
     "output_type": "stream",
     "text": [
      "1st quartile of the list is:  136.5\n",
      "2nd quartile of the list is:  252\n",
      "3rd quartile of the list is:  367.5\n"
     ]
    }
   ],
   "source": [
    "import math\n",
    "#import functools\n",
    "\n",
    "def percentile(N, percent, key=lambda x:x):\n",
    "    \"\"\"\n",
    "    Find the percentile of a list of values.\n",
    "\n",
    "    @parameter N - is a list of values. Note N MUST BE already sorted.\n",
    "    @parameter percent - a float value from 0.0 to 1.0.\n",
    "    @parameter key - optional key function to compute value from each element of N.\n",
    "\n",
    "    @return - the percentile of the values\n",
    "    \"\"\"\n",
    "    if not N:\n",
    "        return None\n",
    "    k = (len(N)-1) * percent\n",
    "    f = math.floor(k)\n",
    "    c = math.ceil(k)\n",
    "    if f == c:\n",
    "        return key(N[int(k)])\n",
    "    d0 = key(N[int(f)]) * (c-k)\n",
    "    d1 = key(N[int(c)]) * (k-f)\n",
    "    return d0+d1\n",
    "\n",
    "# median is 50th percentile.\n",
    "#median = functools.partial(percentile, percent=0.5)\n",
    "\n",
    "print(\"1st quartile of the list is: \",percentile(aList,0.25))\n",
    "print(\"2nd quartile of the list is: \",percentile(aList,0.5))\n",
    "print(\"3rd quartile of the list is: \",percentile(aList,0.75))\n"
   ]
  },
  {
   "cell_type": "code",
   "execution_count": 4,
   "metadata": {
    "collapsed": false
   },
   "outputs": [
    {
     "name": "stdout",
     "output_type": "stream",
     "text": [
      "1st quartile of the list is:  136.5\n",
      "2nd quartile of the list is:  252.0\n",
      "3rd quartile of the list is:  367.5\n"
     ]
    }
   ],
   "source": [
    "import numpy as np\n",
    "a = np.array(aList)\n",
    "\n",
    "print(\"1st quartile of the list is: \",np.percentile(a, 25))\n",
    "print(\"2nd quartile of the list is: \",np.percentile(a, 50))\n",
    "print(\"3rd quartile of the list is: \",np.percentile(a, 75))"
   ]
  },
  {
   "cell_type": "markdown",
   "metadata": {},
   "source": [
    "# Question 2: Read the file ‘ques2.txt’. Print the number of words. Find out what is the average, median and mode for word length (character length)."
   ]
  },
  {
   "cell_type": "code",
   "execution_count": 5,
   "metadata": {
    "collapsed": false
   },
   "outputs": [
    {
     "name": "stdout",
     "output_type": "stream",
     "text": [
      "The number of words in the file are: 309\n",
      "Average of the character length  is:  5.618122977346278\n",
      "The median of the character length is:  5\n",
      "Mode of the character length is: 2\n"
     ]
    }
   ],
   "source": [
    "fName = \"ques2.txt\"\n",
    "num_words = 0\n",
    "num_chars = 0\n",
    "cList =[]\n",
    "\n",
    "with open(fName,'r') as f:\n",
    "    for line in f:\n",
    "        words = line.split()\n",
    "        \n",
    "        num_words += len(words)\n",
    "        \n",
    "        for c in words:\n",
    "            num_chars = len(c)\n",
    "            cList.append(num_chars)\n",
    "        \n",
    "    \n",
    "print(\"The number of words in the file are:\", num_words)\n",
    "# Unix command to find the number of words is: \"cat *.txt | wc -w\"\n",
    "#print(sorted(cList))\n",
    "print(\"Average of the character length  is: \", float(sum(cList)) / max(len(cList), 1))\n",
    "#print(len(cList))\n",
    "\n",
    "# Finding median of the charcter length \n",
    "srt = sorted(cList)\n",
    "mid = len(cList) // 2\n",
    "if len(cList) % 2:  # if list length mod 2 has a remainder, the list is an odd length\n",
    "    print(\"The median of the character length is: \",srt[mid] )\n",
    "else: \n",
    "    med = (srt[mid] + srt[mid-1]) / 2 # in a list [1,2,3,4] srt[mid] -> 2, srt[mid-1] -> 3\n",
    "    print(\"Else block, The median of the character length is: \",med )\n",
    "\n",
    "#Finding mode of the character length:\n",
    "print(\"Mode of the character length is:\",max(set(cList), key=cList.count))"
   ]
  },
  {
   "cell_type": "markdown",
   "metadata": {},
   "source": [
    "# Question 3: There are 1500 json files in ‘/jsons’. Find out how many of the files contain the string, ‘User not found’ (case insensitive). Create a dictionary, containing (user_id,present). present is 0 if ‘user not found’ else 1. Print random 5 entries."
   ]
  },
  {
   "cell_type": "code",
   "execution_count": 6,
   "metadata": {
    "collapsed": true
   },
   "outputs": [],
   "source": [
    "import os\n",
    "import random\n",
    "\n",
    "dir_path = os.getcwd()\n",
    "json_path = dir_path + \"/jsons\"\n",
    "os.chdir(json_path)\n",
    "\n",
    "count = 0\n",
    "searchString = 'User Not Found'\n",
    "dictionary = {}"
   ]
  },
  {
   "cell_type": "code",
   "execution_count": 7,
   "metadata": {
    "collapsed": false
   },
   "outputs": [
    {
     "name": "stdout",
     "output_type": "stream",
     "text": [
      "Number of files that contain the sting,'User not found' are:  877\n",
      "Random 5 entries are: [('VrFkqCz61BMMh02', 0), ('wGqSklKG1BkD1f5', 0), ('RIbMhsGw1B2p9F5', 0), ('WjAgUPNa1BJEhq2', 1), ('WSQuGUyc1BMx7L2', 0)]\n"
     ]
    }
   ],
   "source": [
    "for fname in os.listdir(json_path):\n",
    "    if os.path.isfile(fname):\n",
    "        with open(fname,\"r\",encoding = \"ISO-8859-1\" ) as f:\n",
    "            for line in f:\n",
    "                if searchString.lower() in line.lower():\n",
    "                    count += 1\n",
    "                    dictionary[fname.replace('.json','')] = 0\n",
    "                else:\n",
    "                    dictionary[fname.replace('.json','')] = 1\n",
    "\n",
    "print(\"Number of files that contain the sting,'User not found' are: \",count)\n",
    "print(\"Random 5 entries are:\",random.sample(dictionary.items(),5))"
   ]
  },
  {
   "cell_type": "code",
   "execution_count": 8,
   "metadata": {
    "collapsed": false
   },
   "outputs": [
    {
     "name": "stdout",
     "output_type": "stream",
     "text": [
      "Number of files that contain the sting,'User not found' are:  877\n",
      "Random 5 entries are: [('Rn9dcjzH1AvoVa2', 1), ('VWLIcFx91AxgcS5', 0), ('B3XFOsHt1zP4DE5', 0), ('AjnCxTwv1BMutG2', 1), ('qb5rCu9u1BMOZl2', 1)]\n"
     ]
    }
   ],
   "source": [
    "import os\n",
    "import glob\n",
    "import random \n",
    "\n",
    "count = 0\n",
    "os.chdir(json_path)\n",
    "for file in glob.glob('*.json'):\n",
    "    with open(file) as f:\n",
    "        contents = f.read()\n",
    "    if searchString.lower() in contents.lower():\n",
    "        count += 1\n",
    "        dictionary[file.replace('.json','')] = 0\n",
    "    else:\n",
    "        dictionary[file.replace('.json','')] = 1\n",
    "\n",
    "print(\"Number of files that contain the sting,'User not found' are: \",count)\n",
    "print(\"Random 5 entries are:\",random.sample(dictionary.items(),5))\n"
   ]
  },
  {
   "cell_type": "markdown",
   "metadata": {},
   "source": [
    "# Question 4: For the same Json files, there is a field, `segmentUid` which can either start with 0xxxx(lets call them 1st party data) or 1xxxxx (lets call them 3rd party data). For each user, count the number of first party segments and third party segments."
   ]
  },
  {
   "cell_type": "code",
   "execution_count": 9,
   "metadata": {
    "collapsed": false
   },
   "outputs": [
    {
     "name": "stdout",
     "output_type": "stream",
     "text": [
      "{'RrpHRhiE1Bv2mL5': {'third': 176, 'first': 35}, 'WBF9qxjj1zMxmP5': {'third': 0, 'first': 257}, 'VNyyIVf41Bh3co5': {'third': 1742, 'first': 284}, 'BsEiZ9y61B4gjI5': {'third': 2780, 'first': 143}, 'ZpQjxq0d1BMbYu2': {'third': 0, 'first': 4}, 'w8JsGfDn1BsN3H5': {'third': 980, 'first': 242}, 'rUcoRMHx1Ak9SX5': {'third': 0, 'first': 171}, 'WrT0B30t1BqF6r5': {'third': 0, 'first': 146}, 'vkwwRtNf1zRhlQ5': {'third': 0, 'first': 473}, 'fWOrVAxL1BMLWy2': {'third': 0, 'first': 4}, 'AR0hkF421BFyc25': {'third': 0, 'first': 1}, 'vLdmrHKE1BJvsw5': {'third': 0, 'first': 8}, 'zpxjpMNy1AuiYF2': {'third': 23, 'first': 70}, 'wBzl56oc1zrvEo5': {'third': 0, 'first': 252}, 'BlgoDTTL1BLp075': {'third': 0, 'first': 4}, 'FZRY65XU1A405M5': {'third': 773, 'first': 415}, 'WjAgUPNa1BJEhq2': {'third': 0, 'first': 6}, 'r1MezVIf1Bhxrt6': {'third': 560, 'first': 184}, 'zTOvpRaL1BM6na2': {'third': 0, 'first': 1}, 'RLFsETGD1AqMyr5': {'third': 0, 'first': 2}, 'R75QcDlk1BMIuC5': {'third': 3, 'first': 8}, 'QY3ONjDv1BiPYt5': {'third': 1243, 'first': 120}, 'vzyuFUlL1BdiyH5': {'third': 221, 'first': 282}, 'AnQ6ESQ61Aoc4F5': {'third': 1231, 'first': 223}, 'zRZbEMBH1BAQxr5': {'third': 262, 'first': 173}, 'RFm7ejJ61BoSl85': {'third': 1033, 'first': 313}, 'vs7Q55Ab1BD9Go5': {'third': 31, 'first': 6}, 'vxT6WyhM1BLtE95': {'third': 0, 'first': 2}, 'rbdU0rGk1BqgNk5': {'third': 3013, 'first': 275}, 'A919aKwiqnBd0plwT3izfU0NhGRKnX6z': {'third': 0, 'first': 1}, 'vNGkqbXk1BMKjd2': {'third': 0, 'first': 1}, 'g3bmJ7hI1BMvIC2': {'third': 0, 'first': 1}, 'WvfhW5CW1BKz8T5': {'third': 0, 'first': 5}, 'AGCpEWWb1BEx235': {'third': 0, 'first': 4}, 'R6oQa2GG1BMMM95': {'third': 0, 'first': 1}, 'wqeJNPQ61AwMSC5': {'third': 440, 'first': 202}, 'AJHEkzfW1Adc5x5': {'third': 0, 'first': 2}, 'RgeMZ2Qb1BkRzq5': {'third': 16, 'first': 155}, 'RsXwvljm1AhLad2': {'third': 356, 'first': 171}, 'ReKxr3i91AUv6d5': {'third': 0, 'first': 1}, 'WB4RF8C21B8fCc5': {'third': 896, 'first': 186}, 'AYBhCCwF1zzi5m5': {'third': 0, 'first': 231}, 'rA0KtS0J1AMmTw5': {'third': 597, 'first': 222}, 'ruE1v11v1BMHIh2': {'third': 0, 'first': 4}, 'WsuP1cFn1BJYGv5': {'third': 1, 'first': 5}, 'RLbeoM011BCnDo5': {'third': 151, 'first': 19}, 'qXAOQWaG1BMzsB5': {'third': 0, 'first': 1}, 'rEU5SXr61ALxuB5': {'third': 225, 'first': 241}, 'qPB2M3Bj1ABQY25': {'third': 7, 'first': 295}, 'w4ShkB2G1BMma45': {'third': 6, 'first': 5}, 'vLZKER2W1BGfzD5': {'third': 563, 'first': 144}, 'g6rJPqKY1BDDhM5': {'third': 33, 'first': 64}, 'wLE7dqFR1BJyqj5': {'third': 0, 'first': 16}, 'WRoTINWe1BMN9Q5': {'third': 0, 'first': 1}, 'QS9Jnyre1Bzq2z2': {'third': 573, 'first': 21}, 'vqNPYjndiO2K4NcidiUcuMIcTY2nTKZ8': {'third': 51, 'first': 162}, 'vsnTQP1D1ATjpF5': {'third': 4, 'first': 56}, 'QsAVgeiL1BDh2G5': {'third': 23, 'first': 32}, 'R6KTK5QO1BMs7t2': {'third': 0, 'first': 4}, 'ZQfaSO5n1BpdMa5': {'third': 26, 'first': 32}, 'vnxWp3r31Bx3rL5': {'third': 113, 'first': 104}, 'AMrlahXF1BdClC2': {'third': 2184, 'first': 63}, 'R7FJCkge1ANWJf5': {'third': 2, 'first': 161}, 'vzWrKtkn1BrlWj5': {'third': 221, 'first': 47}, 'rpmRdl6r1BqIhj5': {'third': 125, 'first': 7}, 'r8MYOFW11zEzdd5': {'third': 5, 'first': 165}, 'rcJDu64e1BAcO22': {'third': 0, 'first': 5}, 'WRwZkEWX1AMb605': {'third': 9, 'first': 123}, 'BqPyokHE1Acifj5': {'third': 1187, 'first': 236}, 'WpzmtuPo1BMkfk2': {'third': 0, 'first': 4}, 'Q354qrDS1Btal05': {'third': 566, 'first': 244}, 'rnIaTwvt1BLkQl5': {'third': 20, 'first': 13}, 'WveDTDYo1B7fzq5': {'third': 238, 'first': 65}, 'BPXhjodA1BMq0f2': {'third': 0, 'first': 1}, 'FZua0Uxl1BMOYm2': {'third': 0, 'first': 1}, 'wRzVn2RK1BuVe85': {'third': 1159, 'first': 77}, 'AGIKzXTx1BMMk75': {'third': 4, 'first': 4}, 'Vq2C9u0u1BsbPF5': {'third': 598, 'first': 116}, 'BekLXUjv1AZJCO5': {'third': 0, 'first': 244}, 'zOInRjY61BzwE25': {'third': 1, 'first': 195}, 'q06QaaY91BMmUf5': {'third': 0, 'first': 3}, 'WaY4jHJL1AAoQN5': {'third': 0, 'first': 95}, 'qu4Z0gyTXlYkt08UeQuM8Oleh50eFf8l': {'third': 0, 'first': 3}, 'w77GpP1o1BJRKR5': {'third': 1, 'first': 6}, 'Aa8F01bG1zEVca5': {'third': 1538, 'first': 360}, 'rGbkm76421xRPvwBWd1dbspgVUoOj8jK': {'third': 0, 'first': 117}, 'WonGkCh91BnqcG5': {'third': 3225, 'first': 236}, 'W9GfOapB1BKu0w5': {'third': 14, 'first': 6}, 'rcAqwEm51AQwSN5': {'third': 378, 'first': 180}, 'WbkqlfzJ1BDsW85': {'third': 7, 'first': 19}, 'viYLTDxE1B9AUu5': {'third': 116, 'first': 81}, 'BIpfcxZA1zQ35g5': {'third': 0, 'first': 418}, 'Wd1tsjPR1Bx8Nr5': {'third': 491, 'first': 127}, 'rhJcwbkO1Bo4ZD5': {'third': 75, 'first': 70}, 'VuGrlYM11BJy6Z5': {'third': 0, 'first': 34}, 'g9FbT5GAvfhYXIYrLDN8hGIJPeOvdRye': {'third': 0, 'first': 1}, 'ruZhhuu61BjjZH5': {'third': 0, 'first': 193}, 'QsamkhX91BHXR75': {'third': 0, 'first': 11}, 'RtSjLEjv1BMoXq2': {'third': 0, 'first': 4}, 'VnN6zg6r1zLlRS5': {'third': 948, 'first': 373}, 'Wy4dICb81zTjZi2': {'third': 0, 'first': 26}, 'AtRPmo9f1BJSDf5': {'third': 0, 'first': 11}, 'RmtpGQeX1zsWF15': {'third': 1874, 'first': 170}, 'B9JmSTEk1BI70R5': {'third': 0, 'first': 10}, 'ZQcoKCmB1B5eii5': {'third': 484, 'first': 369}, 'QRkstXPN1zG1fk5': {'third': 2807, 'first': 440}, 'WPNfMlAs1BMu8S5': {'third': 0, 'first': 4}, 'rMUhNuX11AeS7d5': {'third': 0, 'first': 121}, 'BN5TKLdK1zsXgV5': {'third': 2494, 'first': 253}, 'g58fMEEi1BBMGY5': {'third': 0, 'first': 7}, 'w8oH2uDi1BMAXJ2': {'third': 0, 'first': 4}, 'RFWrTlYu1zXk9c5': {'third': 594, 'first': 25}, 'rqIAinu01BDpqe5': {'third': 41, 'first': 12}, 'rR8iX0HM1BEwXK2': {'third': 53, 'first': 22}, 'VPGqpAaM1BFYyf5': {'third': 3, 'first': 9}, 'WMW6SIZe1BKLSo5': {'third': 11, 'first': 5}, 'whcuo8nr1zxiHb5': {'third': 0, 'first': 266}, 'vWX6noiG1BMNep5': {'third': 0, 'first': 2}, 'zsn3Uw621AMTK95': {'third': 385, 'first': 151}, 'ZnP8wAxh1BMMoQ2': {'third': 0, 'first': 5}, 'BbsEjJhY1A9y6x5': {'third': 0, 'first': 102}, 'wQDXIFZS1BJTRU5': {'third': 7, 'first': 39}, 'RsRfgh3v1B92BJ5': {'third': 0, 'first': 7}, 'ZSzfe3jX1B2aT65': {'third': 0, 'first': 1}, 'rj7uNpUo1AYptb5': {'third': 53, 'first': 185}, 'BoMsIYqa1BDho55': {'third': 18, 'first': 11}, 'rn01nShC1BMtzG5': {'third': 0, 'first': 7}, 'Bevic89q1BI78c5': {'third': 8, 'first': 3}, 'rcnd53uk1AbZg15': {'third': 1, 'first': 152}, 'AxtScjEi1Btf3Y5': {'third': 0, 'first': 2}, 'wH0dlIPZ1BHO4P5': {'third': 0, 'first': 15}, 'W60qLLKS1AlFeR5': {'third': 2419, 'first': 110}, 'wOnr5rke1BMGCv5': {'third': 0, 'first': 1}, 'zOv7t8T21BLJqo5': {'third': 1, 'first': 47}, 'wC5uP2Ht1BJOeq5': {'third': 0, 'first': 14}, 'Zrrns0lJ1Bdo305': {'third': 0, 'first': 227}, 'Wy10fDIa1ADsur5': {'third': 0, 'first': 21}, 'rLi53H881BAlra5': {'third': 5, 'first': 4}, 'q5N116GQ1BMdbf2': {'third': 0, 'first': 1}, 'RkLRclQqb7zWsPZXCEbrns4zumGJBBCJ': {'third': 0, 'first': 17}, 'qQfVQ5Hf1BJuks5': {'third': 0, 'first': 20}, 'wpQwNEu71BDsFt5': {'third': 7, 'first': 5}, 'RTXwl3iw1BpZsY5': {'third': 93, 'first': 117}, 'q8TVfU1W1BDHfh2': {'third': 127, 'first': 46}, 'AoMDTLDe1Bk5lD5': {'third': 700, 'first': 317}, 'FX5fmTRe1BnZec5': {'third': 130, 'first': 220}, 'A2VNCBDc1BI1q65': {'third': 0, 'first': 6}, 'vGQWymI81BDiCq5': {'third': 313, 'first': 151}, 'wdwFQreo1BxzoU5': {'third': 14, 'first': 9}, 'zqDY7ZLG1BLmC52': {'third': 0, 'first': 7}, 'B7R1QfGl1AvPZw5': {'third': 1224, 'first': 194}, 'vjxp4aHx1Astzo5': {'third': 697, 'first': 199}, 'rfjK1sh51AKAIe5': {'third': 166, 'first': 109}, 'wDEvuCsE1BJ3Nv5': {'third': 0, 'first': 10}, 'rVanM4F31BMv2i5': {'third': 0, 'first': 2}, 'q7Y681J51zK01u2': {'third': 0, 'first': 212}, 'R9cDiCOn1BLdgf5': {'third': 0, 'first': 3}, 'WdJonOel1AFpUv5': {'third': 0, 'first': 6}, 'VtkRv2V91BM9rd5': {'third': 0, 'first': 1}, 'vxe4Aqve1BM9oT5': {'third': 0, 'first': 2}, 'WFgvm0ph1ATGxm5': {'third': 987, 'first': 211}, 'WQF1MwHu1ATDnk5': {'third': 1408, 'first': 317}, 'RVRSFBBd1BnvBc5': {'third': 988, 'first': 66}, 'BGijYBDQ1AX6HB5': {'third': 105, 'first': 9}, 'wpgBplTJ1BMORX2': {'third': 0, 'first': 3}, 'wBKcC9HI1Apdos2': {'third': 0, 'first': 5}, 'VYo5NcHa1AfU705': {'third': 0, 'first': 30}, 'w95QhHrT1B2h695': {'third': 1732, 'first': 223}, 'VPPA4CmX1BugZy5': {'third': 1341, 'first': 268}, 'rNozYJSV1AYgIa5': {'third': 185, 'first': 60}, 'RRhP7AZu1AW5Vn5': {'third': 205, 'first': 192}, 'RCrCAOZv1B7JMI5': {'third': 321, 'first': 270}, 'r24op22O1BunLZ5': {'third': 58, 'first': 217}, 'g6uTAWNA1ANb2d5': {'third': 0, 'first': 5}, 'RcTSaSAYAkEeGrLD8tj0JQ7SoRC4jsJN': {'third': 0, 'first': 19}, 'WR2CYTVQ1BM2nn5': {'third': 409, 'first': 26}, 'g07DrnGU1BLE0X5': {'third': 0, 'first': 2}, 'RleTQ9pG1A88GT5': {'third': 0, 'first': 2}, 'FwesrNXp1ABBQT5': {'third': 0, 'first': 5}, 'wWVrBJXs1BL6uj5': {'third': 0, 'first': 3}, 'qrQOHyoQ1zFyYL5': {'third': 0, 'first': 154}, 'vkbVIIwp1BMKC22': {'third': 1, 'first': 3}, 'ATPm3LpW1BepUd5': {'third': 1686, 'first': 467}, 'WIs5P3Eg1AWVbn5': {'third': 0, 'first': 170}, 'Bb0vE5cP1BLNMa5': {'third': 0, 'first': 3}, 'REon76Ro1Bk6t55': {'third': 0, 'first': 8}, 'Gc90Oc0x1zQO9M5': {'third': 38, 'first': 67}, 'vwOCckem1Bx4Wa5': {'third': 484, 'first': 56}, 'WWl2ALx51AmKnl5': {'third': 120, 'first': 88}, 'W1LzOgzH1BMNpp2': {'third': 0, 'first': 4}, 'QXXNnlDy1BKdw25': {'third': 0, 'first': 5}, 'gbdplUAy1BMnmc2': {'third': 0, 'first': 1}, 'vWeMud5V1BMyma2': {'third': 0, 'first': 1}, 'qZfpYTat1BIKg85': {'third': 0, 'first': 19}, 'wkYmL1Iy1BAmWx5': {'third': 0, 'first': 226}, 'R0bRPwwc1Bj8SG5': {'third': 0, 'first': 192}, 'rQfQle9t1BMoDh2': {'third': 0, 'first': 4}, 'rpoqhaolyyD7lTxShcyD7NMhFnK2nbDE': {'third': 0, 'first': 290}, 'w3cgOQxl1BGX235': {'third': 0, 'first': 6}, 'G0aXzHDS1BMzKr2': {'third': 0, 'first': 4}, 'BMjPBNTk1AOWPF5': {'third': 1091, 'first': 380}, 'rhUZigaH1BKFi75': {'third': 0, 'first': 4}, 'qb5rCu9u1BMOZl2': {'third': 0, 'first': 1}, 'Wxp6oLx41BJPGf5': {'third': 0, 'first': 12}, 'VUOAvH5I1BMkFH2': {'third': 0, 'first': 1}, 'rlAi8wN93hgezmuFnwKSvvbpJbBJH4CY': {'third': 727, 'first': 166}, 'ARI5Y6ZM1BImA25': {'third': 0, 'first': 12}, 'zMTquV0G1A3zO95': {'third': 1481, 'first': 420}, 'A3bVx1T11BLTx65': {'third': 0, 'first': 5}, 'RhomxVAg1BKCXM5': {'third': 0, 'first': 4}, 'G1MIBSBH1ByC2u5': {'third': 8, 'first': 14}, 'vwZGeczL1BqGIi5': {'third': 89, 'first': 73}, 'AniGWaG71BFC205': {'third': 86, 'first': 89}, 'R9N9QzFO1B9Hqi5': {'third': 436, 'first': 194}, 'RIncB32I1BMoqi5': {'third': 0, 'first': 5}, 'wj8rTOOl1BEyqI5': {'third': 11, 'first': 12}, 'AQLqHEvX1BLnIp5': {'third': 0, 'first': 7}, 'FwTVVs8j1AJO1U5': {'third': 64, 'first': 262}, 'BdKcsiu41BxtBr5': {'third': 324, 'first': 74}, 'wjYP4axi1BM4qd5': {'third': 55, 'first': 10}, 'w4jMcxUX1B9DiP5': {'third': 1, 'first': 2}, 'QZZl3uCS1By2wz5': {'third': 15, 'first': 15}, 'Qu1x0BYC1AHPoe5': {'third': 0, 'first': 152}, 'g54OZDxJ1AjU9A5': {'third': 776, 'first': 93}, 'W5drVVBv1BMlj55': {'third': 0, 'first': 10}, 'ZvCOSJMp1BtQEp5': {'third': 6, 'first': 83}, 'VIEaQ5Ey1BiHhl5': {'third': 0, 'first': 294}, 'ZVk66FW11APmqN5': {'third': 665, 'first': 447}, 'VmU8tt491BM1UC2': {'third': 0, 'first': 1}, 'gAGOFJsL1BcBsU5': {'third': 97, 'first': 46}, 'rQ0RjFZC1BGkTb5': {'third': 239, 'first': 145}, 'wozRbewM1AI7pc5': {'third': 1713, 'first': 308}, 'B6ohYGtm1ByFOI5': {'third': 917, 'first': 146}, 'wRUHJZlg1BsVnT5': {'third': 496, 'first': 47}, 'AY9GdOjk1ztGOt5': {'third': 0, 'first': 1}, 'wtxAI8301BJFCm5': {'third': 3, 'first': 5}, 'ABSy3tf91BzpGe5': {'third': 26, 'first': 12}, 'QWqI76vY1BCSPK5': {'third': 229, 'first': 24}, 'Wa8NlaxK1AGL8U5': {'third': 1189, 'first': 272}, 'r5X6ciY71BlHC32': {'third': 162, 'first': 144}, 'RCtixFDc1BMMU02': {'third': 0, 'first': 1}, 'rhxmikOH1BmWKB5': {'third': 0, 'first': 6}, 'Bk4iIqky1Bl3SL2': {'third': 172, 'first': 145}, 'RuCV2Ml01BztxS5': {'third': 0, 'first': 1}, 'BIuv0zAE1BLRsg5': {'third': 17, 'first': 5}, 'rnWS78W61Bz3Lj5': {'third': 0, 'first': 64}, 'WwmpHbh31BrHby5': {'third': 792, 'first': 44}, 'rUMLvvEj1BEy012': {'third': 0, 'first': 9}, 'vQ0m53Ax1BI45J5': {'third': 0, 'first': 3}, 'Qq0WtvWw1B7qmC5': {'third': 3896, 'first': 390}, 'AnTIjUWG1BDNX85': {'third': 27, 'first': 201}, 'wojrdqup1AZVyC5': {'third': 5, 'first': 1}, 'W0F73CNI1BM8Gh2': {'third': 0, 'first': 1}, 'A5xOTqVS1Amd7F5': {'third': 1574, 'first': 339}, 'Q9QRGy391BtQIQ5': {'third': 745, 'first': 29}, 'R0hAO3n41BCIGv5': {'third': 0, 'first': 4}, 'znNaVJvD1ByXRA5': {'third': 424, 'first': 102}, 'wacZlqNh1Bl5FW5': {'third': 531, 'first': 111}, 'WaDLKoZE1AikRv5': {'third': 1608, 'first': 303}, 'zVqPkcZi1BMlvA5': {'third': 0, 'first': 37}, 'AUqXVIJz1BhjHj5': {'third': 0, 'first': 1}, 'QtahjAZT1BMLgW5': {'third': 0, 'first': 4}, 'AAHWj5QN1BJ1ZP5': {'third': 0, 'first': 2}, 'wTB9SJ4h1BEvUK5': {'third': 0, 'first': 12}, 'A3j6Sjuz1BMMV82': {'third': 0, 'first': 1}, 'vksYxtk71BqBWj5': {'third': 765, 'first': 281}, 'g30TxF1W1A5zip5': {'third': 205, 'first': 27}, 'qq9kS06r1B6lcp5': {'third': 662, 'first': 235}, 'wTu8gCreexE7dFFsoAK0dSCTSXDOBL0x': {'third': 22, 'first': 169}, 'rOiau9pJquU0YRpMYYR4ElY1ibePWz1p': {'third': 898, 'first': 179}, 'wd4FSvBJ1BBNUK5': {'third': 1042, 'first': 81}, 'BKrmTGPK1BMn4W5': {'third': 0, 'first': 59}, 'WiLPib4d1BHM4i5': {'third': 2, 'first': 8}, 'FyXumeBK1BKKMo5': {'third': 2, 'first': 7}, 'rbDl0jv21BFF9P5': {'third': 0, 'first': 10}, 'BBR91eEw1BDCxE5': {'third': 0, 'first': 18}, 'RjMCFkE11B3zIi5': {'third': 0, 'first': 261}, 'ACE6wrft1AqkzU5': {'third': 1, 'first': 1}, 'wfwUF5Vd1BGFgr2': {'third': 4, 'first': 6}, 'rlCDZMai1ALhom5': {'third': 369, 'first': 56}, 'wQI7l8os1BAOrU5': {'third': 128, 'first': 139}, 'r4qhc4lZ1BLHR15': {'third': 21, 'first': 1}, 'RSkEBmcm1BBigz5': {'third': 320, 'first': 92}, 'rnegUVaP1Be3NF5': {'third': 0, 'first': 220}, 'ZuWjcESU1BoR9S5': {'third': 1, 'first': 0}, 'wd36an0f1B1YiW5': {'third': 371, 'first': 377}, 'zR79p05c1BMObJ2': {'third': 0, 'first': 3}, 'G6yvLRud1BJylQ2': {'third': 2, 'first': 20}, 'wUIZUK8R1BMDBs2': {'third': 0, 'first': 1}, 'RoQ441oX1Br3TE5': {'third': 89, 'first': 45}, 'ALxJlgbJ1BhwXC5': {'third': 3, 'first': 2}, 'wo4ji8p11BE3l25': {'third': 221, 'first': 25}, 'G2l0GlBb1Bwpxf5': {'third': 977, 'first': 190}, 'wIrXHBfp1BMjAd2': {'third': 0, 'first': 1}, 'VVQ6gUGL1BM8Lm5': {'third': 0, 'first': 4}, 'FvxnmIZU1AWxGP5': {'third': 0, 'first': 1}, 'B54jhdRr1BrnBO5': {'third': 396, 'first': 67}, 'rvFrQSud1Bairy5': {'third': 0, 'first': 1}, 'AuRamyuA1BMJkI2': {'third': 0, 'first': 4}, 'VPSaAVrM1zYUyh5': {'third': 0, 'first': 2}, 'BDCb90TA1BLgGH5': {'third': 20, 'first': 88}, 'R1IYuUzz1AR8Os5': {'third': 2, 'first': 178}, 'R6JfH8ck1BJeZx2': {'third': 4, 'first': 22}, 'wr3T0KE61zvtuZ5': {'third': 0, 'first': 202}, 'Qae5k9IB1AiPtx5': {'third': 4, 'first': 1}, 'AKeCOVxv1AR78w5': {'third': 914, 'first': 301}, 'wUBFp9ND1B2O7H5': {'third': 330, 'first': 132}, 'rGoHAdWO1ADNeS2': {'third': 159, 'first': 189}, 'vIZvughTQ6aIGGO09Ux1FfsvIAwvFLen': {'third': 0, 'first': 92}, 'Vx5uIXgV1BFWKp5': {'third': 3, 'first': 11}, 'whGAIFTX1BtV3g2': {'third': 67, 'first': 75}, 'G7rpQ4vY1BI6uM2': {'third': 0, 'first': 2}, 'znqz1JY51BMmy05': {'third': 164, 'first': 10}, 'WH3GDa5v1BK0iu5': {'third': 0, 'first': 1}, 'vjukd8Ep1ANQXJ5': {'third': 42, 'first': 116}, 'BdygLYWF1AIUmH5': {'third': 1336, 'first': 295}, 'whSyMF5Q1BMtRU5': {'third': 0, 'first': 1}, 'VKnyAdDs1BgRL35': {'third': 288, 'first': 392}, 'gcqe285I1BwxeK5': {'third': 798, 'first': 73}, 'vyAAuMo81BH2sd5': {'third': 0, 'first': 11}, 'VH8e8hPS1BJ8A65': {'third': 0, 'first': 16}, 'ANuFI3wm1BM9C75': {'third': 0, 'first': 3}, 'G0GCyqRk1Ba51g5': {'third': 1806, 'first': 192}, 'B1fkWU4B1BnJpi5': {'third': 0, 'first': 45}, 'A2HkZPkn1BpvvG5': {'third': 0, 'first': 15}, 'wSjAjT5c1BxECT5': {'third': 464, 'first': 100}, 'ABwA5DAx1Az1g65': {'third': 2474, 'first': 188}, 'wbPdTWzXQkN0ndTDG4EhXCPXzfr33W2a': {'third': 54, 'first': 377}, 'W6xg92mB1AvRLa5': {'third': 238, 'first': 155}, 'Zp1j3ZGn1AVxHA5': {'third': 27, 'first': 215}, 'rQ9QWdAT1BMwRx5': {'third': 9, 'first': 3}, 'vVrtKgMX1BweMp5': {'third': 0, 'first': 9}, 'Vx65yIWz1BHSx95': {'third': 0, 'first': 3}, 'RchaJXZU1B0bPK5': {'third': 885, 'first': 77}, 'BtHxPRga1zV8Ci5': {'third': 2139, 'first': 206}, 'gAzm2a8S1BIxC05': {'third': 0, 'first': 13}, 'ZuCGqtX51BMmqF5': {'third': 1, 'first': 10}, 'vqTjwdYb1BMy7s5': {'third': 8, 'first': 5}, 'VGPfVlzt1BIHmY2': {'third': 0, 'first': 13}, 'BF0LwNhC1BekAq2': {'third': 0, 'first': 44}, 'Rv7YUw1o1BvnJk5': {'third': 725, 'first': 138}, 'GCkFM4uj1BpNS65': {'third': 2613, 'first': 251}, 'GBe4DTe41BcyK15': {'third': 10, 'first': 5}, 'wfY2P5rY1ByDXk5': {'third': 685, 'first': 74}, 'rHbhzx1oJMJMR7gd0J1hBxaMonADiig1': {'third': 0, 'first': 10}, 'g1DPeDI11BHOyi5': {'third': 0, 'first': 9}, 'Aig7jcGk1BqoTb5': {'third': 1631, 'first': 166}, 'W7i1uW5C1A4HUY5': {'third': 3165, 'first': 182}, 'RKOYw5sY1ByIY22': {'third': 33, 'first': 10}, 'WFIVJEud1B662x5': {'third': 3, 'first': 180}, 'wvon4kVo1AqRn15': {'third': 0, 'first': 145}, 'VQZjOCNu1BtJTI5': {'third': 367, 'first': 85}, 'vYjpJILa1BMwNp5': {'third': 0, 'first': 21}, 'AAOnpE891BhSM45': {'third': 500, 'first': 178}, 'AcE7drxWsXOMPTMvKGWXlKq9ssEDqX1M': {'third': 20, 'first': 227}, 'ZQoOV2fx1BBgyJ5': {'third': 385, 'first': 17}, 'VuujW5f61BlTna5': {'third': 1043, 'first': 205}, 'qPDSnDTM1BMP4J5': {'third': 0, 'first': 1}, 'zQqUOg6d1BMGwi2': {'third': 0, 'first': 1}, 'FztYhncS1BMubM5': {'third': 0, 'first': 4}, 'Q8YghwIE1BH49S5': {'third': 56, 'first': 4}, 'Gcrvfihv1BMwXG2': {'third': 0, 'first': 1}, 'Bt8HN1TN1AZbUB5': {'third': 16, 'first': 10}, 'VMbt31ld1BBW6C5': {'third': 0, 'first': 2}, 'VSmsuQLi1zHoRH5': {'third': 0, 'first': 5}, 'BiSyaEpH1BHs2P5': {'third': 1, 'first': 11}, 'QwHk9b6V1AEqMH5': {'third': 0, 'first': 102}, 'RF4aLnyy1Bq4qB5': {'third': 457, 'first': 71}, 'ABwpqKRf1Bz2UG5': {'third': 0, 'first': 68}, 'r11ejw1U1BKHr45': {'third': 0, 'first': 8}, 'g9nxwxLF1BF5WL2': {'third': 48, 'first': 46}, 'RkKb0PjT1zMWgW5': {'third': 712, 'first': 96}, 'gcyyGodc1AO2J15': {'third': 2191, 'first': 322}, 'BPmPI8001BMsIa5': {'third': 0, 'first': 4}, 'vjljAxZ41BqE2f5': {'third': 761, 'first': 246}, 'BG7SjKA21BuLQG5': {'third': 0, 'first': 3}, 'BQYVihQz1BFwt25': {'third': 0, 'first': 18}, 'qrj7e1w01BovOU5': {'third': 697, 'first': 117}, 'RukXNrFv1BLPIq2': {'third': 35, 'first': 9}, 'BovGXCnr1Bti305': {'third': 835, 'first': 107}, 'G7ILtDa31BwXhx5': {'third': 62, 'first': 71}, 'qakOLREM1BLXoM5': {'third': 0, 'first': 1}, 'wuRvVBCu1AOZkh5': {'third': 478, 'first': 50}, 'FvIMrHQk1BnrqL5': {'third': 1052, 'first': 168}, 'WOjroE0w1BIUjY5': {'third': 0, 'first': 21}, 'B5jXbs5X1BMwhq5': {'third': 0, 'first': 6}, 'QtkSTLCB1BIsFK5': {'third': 16, 'first': 8}, 'wDFFVP1n1B8WQn5': {'third': 2616, 'first': 364}, 'RQkMZUZe1BI0UM2': {'third': 0, 'first': 17}, 'VMvFV5X41A1SLj5': {'third': 0, 'first': 123}, 'r8eR4nDu1BMOCx2': {'third': 0, 'first': 2}, 'ZSkS0bmT1Bz6x15': {'third': 947, 'first': 4}, 'vlpdSh6i1AOXUa5': {'third': 1, 'first': 266}, 'vrZ9dXXP1BtO5w5': {'third': 1135, 'first': 198}, 'ZMUX2W8V1BDDoB5': {'third': 1, 'first': 15}, 'wDUfmZCt1BwtXl5': {'third': 135, 'first': 23}, 'AFFC2C591BlDCm5': {'third': 386, 'first': 48}, 'WJwUWKFr1zOBp52': {'third': 13, 'first': 113}, 'RHXQIJOF1BuJi95': {'third': 55, 'first': 20}, 'Be8W8wmK1AoryF5': {'third': 0, 'first': 92}, 'W3lKJpRu1AdvrA5': {'third': 1357, 'first': 200}, 'Q5EnGgDM1BhWjo5': {'third': 3, 'first': 4}, 'VV9OvM4I1AsX142': {'third': 0, 'first': 4}, 'B0jSr8hO1BqCAc5': {'third': 19, 'first': 4}, 'zPZbXMqN1zXgie5': {'third': 174, 'first': 221}, 'VOIcWFmB1BKhmf5': {'third': 0, 'first': 3}, 'w0BGAqao1BpALl5': {'third': 57, 'first': 98}, 'WgbmO06X1BLNmL5': {'third': 0, 'first': 6}, 'qrChX24k1BHqlv5': {'third': 34, 'first': 28}, 'QZL7nIpc1AN9w22': {'third': 734, 'first': 264}, 'rrOPB4jR1BLZrB5': {'third': 12, 'first': 11}, 'RC0bR5hm1BFfsh5': {'third': 0, 'first': 11}, 'AdLIMIYD1BuDiU2': {'third': 159, 'first': 44}, 'QW5fjLE21BH3B35': {'third': 7, 'first': 7}, 'REi64X7d1AGFnF2': {'third': 15, 'first': 190}, 'AJmn0gHp1BDJ242': {'third': 0, 'first': 35}, 'QWbykDVS1BMaD92': {'third': 0, 'first': 1}, 'AdjWlMHv1A8vM55': {'third': 14, 'first': 125}, 'RIRoYnVj1BMpBT5': {'third': 0, 'first': 1}, 'ROD15LNO1zGDlD5': {'third': 74, 'first': 141}, 'Rn9dcjzH1AvoVa2': {'third': 0, 'first': 55}, 'wImEdd0O1BM6ye2': {'third': 0, 'first': 1}, 'RLHN1Vk91BbIQk5': {'third': 1775, 'first': 159}, 'wMLb9zFP1ASZR85': {'third': 2048, 'first': 213}, 'RgMORvt81AMI4r5': {'third': 0, 'first': 3}, 'rvTjjoAm1AJTZx5': {'third': 468, 'first': 47}, 'G4ygoHJR1BCZ5i2': {'third': 335, 'first': 118}, 'QAafxXTl1BM9hD5': {'third': 0, 'first': 5}, 'VmTJWZu51BkPlR5': {'third': 1655, 'first': 193}, 'VoXkSIU31AWwnb2': {'third': 1521, 'first': 226}, 'Zv9ImYb81AUS6O5': {'third': 505, 'first': 294}, 'AtGOWVZf1BLjrK2': {'third': 0, 'first': 5}, 'BCaQ1o0L1BF6Vv2': {'third': 28, 'first': 87}, 'Vrjd5vpq1Advbq5': {'third': 335, 'first': 101}, 'BENy3u321Bu3jA5': {'third': 1469, 'first': 58}, 'VLGY20Zs1BGvV45': {'third': 1, 'first': 74}, 'vVWPb3qX1BhW3b5': {'third': 491, 'first': 80}, 'FXYoNBlF1BMs162': {'third': 0, 'first': 1}, 'QqfwcL4Y1Bnvm05': {'third': 749, 'first': 147}, 'WlpSX49U1BKbiB5': {'third': 9, 'first': 28}, 'wghzLF0A1Bfarm5': {'third': 733, 'first': 290}, 'AHijfs1f1BLo1i2': {'third': 19, 'first': 8}, 'wuoLWeMB1AfUU32': {'third': 0, 'first': 3}, 'Qrd4002a1BCbrm5': {'third': 259, 'first': 30}, 'qunhQRw41BMqRD2': {'third': 0, 'first': 1}, 'ZvYyHsS31BJMfI5': {'third': 3, 'first': 10}, 'QuwOnkyK1AqLRV2': {'third': 6, 'first': 5}, 'g7cdiFT01BMybI2': {'third': 0, 'first': 2}, 'Q4nwk3Gh1BKCS45': {'third': 0, 'first': 4}, 'RFAfKOJZ1A5o0D5': {'third': 0, 'first': 367}, 'GCoEORZO1zWf3e5': {'third': 3, 'first': 272}, 'WqdFTpNQ1AFYt65': {'third': 751, 'first': 105}, 'G1HUFiGX1BkPEc5': {'third': 15, 'first': 14}, 'WgO5xdqB1AlD9F5': {'third': 97, 'first': 29}, 'ADMEUt2D1BMGwN2': {'third': 0, 'first': 1}, 'g9nTxgPQ1BMwk92': {'third': 0, 'first': 4}, 'BOaq3ZNo1AzLOR5': {'third': 1181, 'first': 272}, 'rKeUzrwj1ByL3k5': {'third': 0, 'first': 8}, 'vJHTYrfm1AOdVd2': {'third': 121, 'first': 19}, 'AKQDTy341AYLky5': {'third': 0, 'first': 5}, 'AjnCxTwv1BMutG2': {'third': 0, 'first': 4}, 'WpUidKQk1BKIT25': {'third': 13, 'first': 8}, 'RhE0MivB1Bsay25': {'third': 613, 'first': 62}, 'WIfzZm0U1BHkwx5': {'third': 0, 'first': 2}, 'WQuLQDyn1BLrNE5': {'third': 6, 'first': 0}, 'wFjp1u1o1BHqYz5': {'third': 0, 'first': 27}, 'WIqbzX441BMGml2': {'third': 0, 'first': 4}, 'G03xcobX1BjAxe5': {'third': 1, 'first': 3}, 'BA0Q9k0P1BGDyo2': {'third': 2, 'first': 7}, 'w0ER8rln1BwRng5': {'third': 12, 'first': 5}, 'VLxuMKFn1BhKf05': {'third': 263, 'first': 190}, 'AnhmBX0Z1BMLcf5': {'third': 0, 'first': 3}, 'AlGylYZ91B9UaK5': {'third': 0, 'first': 3}, 'Qve9aYp91zzUnC5': {'third': 0, 'first': 159}, 'rMXdZsXg1BERmv5': {'third': 279, 'first': 206}, 'Whyg5OJX1BIbQv5': {'third': 0, 'first': 21}, 'qUogFx1H1B4kac2': {'third': 104, 'first': 132}, 'RMo7Cxzi1Bgf8d5': {'third': 114, 'first': 105}, 'ga4nrcT71BMrLz5': {'third': 0, 'first': 4}, 'ARGizL9S1B8ZD25': {'third': 66, 'first': 103}, 'WIiYrHvN1Afwcq5': {'third': 0, 'first': 1}, 'wY9oOKXC1BwSVl5': {'third': 89, 'first': 14}, 'rwHZJrqP1BI9WP5': {'third': 8, 'first': 16}, 'BmsYFBKO1BdaO55': {'third': 873, 'first': 34}, 'zqbZpPLf1BMPOG5': {'third': 0, 'first': 4}, 'R7Jr48Oy1BMxAO5': {'third': 17, 'first': 35}, 'RhcAKh6i1BGUGA5': {'third': 12, 'first': 22}, 'AsvbNPu71B75C65': {'third': 0, 'first': 321}, 'vIaWDxe21BHeX45': {'third': 0, 'first': 1}, 'AMzoHgJo1zzHp05': {'third': 2692, 'first': 240}, 'Bpk3BPmD1BLmwF5': {'third': 0, 'first': 6}, 'QxNB4bGg1BH1Xz5': {'third': 0, 'first': 8}, 'VtbhaDJP1BMqzC2': {'third': 0, 'first': 1}, 'RgL8LXyb1BuAUy5': {'third': 145, 'first': 81}, 'R8nkA9GD1Borkr5': {'third': 103, 'first': 19}, 'QyrNpJ3c1BIsbm5': {'third': 8, 'first': 25}, 'R98b5Mzr1Bi1nb5': {'third': 837, 'first': 336}, 'BDVxEPRh1BLQUL5': {'third': 32, 'first': 39}, 'vTsqsqq41A0wIK5': {'third': 0, 'first': 16}, 'ALis2oIu1BMo275': {'third': 0, 'first': 1}, 'WCO10JB01BLlp35': {'third': 3, 'first': 3}, 'w1tPRHpW1BehxZ5': {'third': 3306, 'first': 342}, 'wbNrlBLw1ACJMx5': {'third': 5, 'first': 65}, 'Vw1nFgNH1BCHSx5': {'third': 348, 'first': 122}, 'rsnKu4BH1BhGBD5': {'third': 0, 'first': 36}, 'G1dhvwTI1B45yf5': {'third': 1, 'first': 122}, 'vVeRRq9Q1BwxQq5': {'third': 64, 'first': 44}, 'QAr7G9t41BIRoS5': {'third': 0, 'first': 54}, 'BT50R6Qw1BMqhl5': {'third': 0, 'first': 4}, 'rP7XoEXx1BLs865': {'third': 23, 'first': 1}, 'r2OH1qz91zWJgQ5': {'third': 378, 'first': 309}, 'g7ZYJoVZ1Biklu5': {'third': 530, 'first': 140}, 'RB3emS9P1BM9Xg2': {'third': 9, 'first': 14}, 'rUgMObVC1BB8O35': {'third': 0, 'first': 4}, 'W9k6BiC31ASY4T5': {'third': 575, 'first': 206}, 'W28d25LL1BMOr72': {'third': 0, 'first': 1}, 'run6Rgjd1BuoAv5': {'third': 590, 'first': 80}, 'VWKu5RKy1BzphM5': {'third': 958, 'first': 119}, 'qPntkVP71BMOPB5': {'third': 1, 'first': 5}, 'VRzQ2Owo1BByll5': {'third': 1510, 'first': 158}, 'w9LFyUcR1BgSo35': {'third': 0, 'first': 3}, 'r4hGmDUM1Burdg5': {'third': 475, 'first': 238}, 'RFc6ANkN1BLN4R5': {'third': 0, 'first': 27}, 'Wg2QUY1s1BasoP5': {'third': 163, 'first': 20}, 'rHLEe68s1ARcUj5': {'third': 0, 'first': 1}, 'zsX3Qg1s1BMx512': {'third': 0, 'first': 4}, 'ztA3NtIV1B7kYc5': {'third': 0, 'first': 1}, 'B6MHb4ZP1BDFEq5': {'third': 0, 'first': 15}, 'VZ0udpKf1BLEqG5': {'third': 0, 'first': 2}, 'VSUBQqJf1BLDUq5': {'third': 491, 'first': 9}, 'ZPbR4mg11BMIf25': {'third': 0, 'first': 3}, 'A9UPpfah1BFECb5': {'third': 337, 'first': 88}, 'zSIKqV4u1BEsgg5': {'third': 175, 'first': 108}, 'QP655HOF1B4tPp5': {'third': 1794, 'first': 323}, 'W9ggYZtQ1BMqRD2': {'third': 0, 'first': 1}, 'Qpu2EAfQ1BMm5J2': {'third': 0, 'first': 4}, 'rekGI7C61AwVWu5': {'third': 0, 'first': 76}, 'APlqXoMg1AcwZy5': {'third': 100, 'first': 29}, 'qxDZeVmG1BJQPj5': {'third': 0, 'first': 38}, 'wdzXBKdc1BEwfl5': {'third': 1050, 'first': 94}, 'ZuQO68HJ1BC5bh5': {'third': 0, 'first': 10}, 'A1Fxs5Ag1A8vuB5': {'third': 1246, 'first': 91}, 'Gb51o7ol1BA8Jf5': {'third': 7, 'first': 48}, 'vSzyn86Y1BH8yF5': {'third': 16, 'first': 13}, 'REInZTyX1BMxe62': {'third': 0, 'first': 1}, 'Wa8QvwxH1A8S625': {'third': 321, 'first': 64}, 'AAD2VmOH1BMwW12': {'third': 0, 'first': 1}, 'VgYBf4X11BMO2e2': {'third': 0, 'first': 1}, 'g8Ej8Y901BL4e45': {'third': 0, 'first': 53}, 'wsRAmm5Q1AnPvH5': {'third': 47, 'first': 62}, 'ZUUy97hQ1Bwtlc5': {'third': 1, 'first': 1}, 'VHyOyWcCTwVwZeJyXZH427pWsWKNWbsg': {'third': 0, 'first': 163}, 'VXHWYz8a1AB7WM2': {'third': 0, 'first': 112}, 'RIm45HSY1BFgQA5': {'third': 1, 'first': 60}, 'GbstW8if1B4xPO5': {'third': 929, 'first': 179}, 'g80GJLlK1BKis35': {'third': 0, 'first': 9}, 'zUfMQSu71B38jo5': {'third': 1093, 'first': 319}, 'w7NDdFH01zvseu5': {'third': 0, 'first': 102}, 'wIVBvcOM1AOKvM5': {'third': 26, 'first': 251}, 'WHx2cVDj1BtDPT5': {'third': 625, 'first': 202}, 'zqt0g3be1BMMAA5': {'third': 0, 'first': 3}, 'VxSB0MwO1BB4WY5': {'third': 415, 'first': 267}, 'zNXXGHKF1AKoO65': {'third': 0, 'first': 46}, 'ZncSuVAK1BMxW22': {'third': 0, 'first': 1}, 'qQbfcvFi1B2krk5': {'third': 2609, 'first': 305}, 'AzSGyFPG1BMaSb5': {'third': 0, 'first': 6}, 'wRVS3dyL1BM8US5': {'third': 0, 'first': 5}, 'G0mjg96A1A4z1p5': {'third': 0, 'first': 60}, 'wOl4wv2q1zsxAR5': {'third': 0, 'first': 210}, 'BiStK9rA1zT5VS5': {'third': 1955, 'first': 394}, 'Qtu8zclN1znQkl5': {'third': 1618, 'first': 108}, 'qZigPREc1BMNzi2': {'third': 0, 'first': 1}, 'zRm9pJQR1Bgem15': {'third': 73, 'first': 40}, 'VjSnHLtrZLAhNPcRurj6ExcbVAFFT3un': {'third': 0, 'first': 29}, 'qaYSpRdq1BqDGF5': {'third': 444, 'first': 26}, 'ZnrJ1QXr1AuC3x5': {'third': 0, 'first': 2}, 'AlpgeUoO6y2LshqJxIu5tvHKcisaiRxY': {'third': 194, 'first': 44}, 'RAbXwtOJ1BIsR05': {'third': 0, 'first': 3}, 'Fxf1G7Es1BoYdG5': {'third': 1310, 'first': 395}, 'zMUq28w21AGgwe2': {'third': 0, 'first': 12}, 'r15pEZTi1BMsyT5': {'third': 1, 'first': 3}, 'RtIoKu2C1zPlPC5': {'third': 404, 'first': 171}, 'AccoGpwU1BMvn42': {'third': 0, 'first': 1}, 'qwRTQ9Lj1Bpk3e5': {'third': 588, 'first': 274}, 'vk1WhQROOaoy4ZALy7opLpEZhWC1GxgS': {'third': 14, 'first': 298}, 'wKBrd3Za1BJkDr2': {'third': 22, 'first': 12}, 'wAA7GQZL1BDxzh5': {'third': 399, 'first': 53}, 'RobjHrno1BFwTD2': {'third': 46, 'first': 18}, 'A2Dsv7RE1BDqYt5': {'third': 27, 'first': 121}, 'rG73nibf1B7xmG5': {'third': 158, 'first': 61}, 'WYfi2sfz1A8F6a5': {'third': 0, 'first': 1}, 'g3w9AsiW1BM7w32': {'third': 0, 'first': 1}, 'wb7GFvQJ1B0hYM5': {'third': 0, 'first': 3}, 'ZOibOH801AM1Ad5': {'third': 117, 'first': 153}, 'r3HyXat91APNOu5': {'third': 94, 'first': 179}, 'RehuTeXf1BKV2b5': {'third': 0, 'first': 11}, 'Q72ts3B41Bcuag5': {'third': 2347, 'first': 83}, 'Vztegpyo1AesYV5': {'third': 7, 'first': 2}, 'VT8pdysN1zvRqK5': {'third': 35, 'first': 243}, 'rrLnHyNs1BKZUy5': {'third': 0, 'first': 7}, 'RKRK1Pte1BwXnT5': {'third': 237, 'first': 13}, 'wieTWpLx1BGiWu5': {'third': 0, 'first': 8}, 'VUbqbYjj1BMx675': {'third': 1, 'first': 2}, 'QuI5P7sG1BoBus5': {'third': 790, 'first': 156}, 'zvvJoBOU1BMxOp5': {'third': 0, 'first': 3}}\n"
     ]
    }
   ],
   "source": [
    "import os\n",
    "import glob\n",
    "import json\n",
    "\n",
    "os.chdir(json_path)\n",
    "dict = {}\n",
    "for file in glob.glob('*.json'):\n",
    "    with open(file) as f:\n",
    "        #contents = f.read()\n",
    "        json_obj = json.load(f)\n",
    "        \n",
    "    if 'retargetingSegments' in json_obj:\n",
    "        first = 0\n",
    "        third = 0\n",
    "        for value in json_obj['retargetingSegments']:\n",
    "            if value['segmentUid'].startswith('1'):\n",
    "                third +=1\n",
    "            else:\n",
    "                first +=1 \n",
    "            dictList = {'first':first,'third':third}\n",
    "            dict[file.replace('.json','')] = dictList\n",
    "print(dict)"
   ]
  }
 ],
 "metadata": {
  "anaconda-cloud": {},
  "kernelspec": {
   "display_name": "Python [Root]",
   "language": "python",
   "name": "Python [Root]"
  },
  "language_info": {
   "codemirror_mode": {
    "name": "ipython",
    "version": 3
   },
   "file_extension": ".py",
   "mimetype": "text/x-python",
   "name": "python",
   "nbconvert_exporter": "python",
   "pygments_lexer": "ipython3",
   "version": "3.5.2"
  }
 },
 "nbformat": 4,
 "nbformat_minor": 0
}
